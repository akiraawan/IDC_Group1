{
 "cells": [
  {
   "cell_type": "code",
   "execution_count": 2,
   "metadata": {},
   "outputs": [
    {
     "name": "stderr",
     "output_type": "stream",
     "text": [
      "2024-03-17 10:56:21.250001: E external/local_xla/xla/stream_executor/cuda/cuda_dnn.cc:9261] Unable to register cuDNN factory: Attempting to register factory for plugin cuDNN when one has already been registered\n",
      "2024-03-17 10:56:21.250094: E external/local_xla/xla/stream_executor/cuda/cuda_fft.cc:607] Unable to register cuFFT factory: Attempting to register factory for plugin cuFFT when one has already been registered\n",
      "2024-03-17 10:56:21.251018: E external/local_xla/xla/stream_executor/cuda/cuda_blas.cc:1515] Unable to register cuBLAS factory: Attempting to register factory for plugin cuBLAS when one has already been registered\n",
      "2024-03-17 10:56:21.256957: I tensorflow/core/platform/cpu_feature_guard.cc:182] This TensorFlow binary is optimized to use available CPU instructions in performance-critical operations.\n",
      "To enable the following instructions: AVX2 FMA, in other operations, rebuild TensorFlow with the appropriate compiler flags.\n",
      "2024-03-17 10:56:21.930575: W tensorflow/compiler/tf2tensorrt/utils/py_utils.cc:38] TF-TRT Warning: Could not find TensorRT\n"
     ]
    }
   ],
   "source": [
    "from utils import *\n",
    "from extraction import *\n",
    "import tensorflow as tf\n",
    "from matplotlib.colors import ListedColormap"
   ]
  },
  {
   "cell_type": "code",
   "execution_count": 3,
   "metadata": {},
   "outputs": [],
   "source": [
    "if not os.path.exists(MASK_TESTING_DIR):\n",
    "    os.makedirs(MASK_TESTING_DIR)\n",
    "if not os.path.exists(MASK_TRAINING_DIR):\n",
    "    os.makedirs(MASK_TRAINING_DIR)"
   ]
  },
  {
   "cell_type": "code",
   "execution_count": null,
   "metadata": {},
   "outputs": [],
   "source": [
    "model = tf.keras.models.load_model(MODEL_PATH)"
   ]
  },
  {
   "cell_type": "code",
   "execution_count": null,
   "metadata": {},
   "outputs": [],
   "source": [
    "def standardise(array_4d):\n",
    "    num_classes = array_4d.shape[3]\n",
    "    quantized_data = np.empty(array_4d.shape, dtype=np.int8)\n",
    "    for class_idx in range(num_classes):\n",
    "        class_data = array_4d[:, :, :, class_idx]\n",
    "        class_data = np.round(class_data)\n",
    "        quantized_data[:, :, :, class_idx] = class_data.astype(np.int8)\n",
    "    return np.argmax(quantized_data, axis=-1)"
   ]
  },
  {
   "cell_type": "code",
   "execution_count": null,
   "metadata": {},
   "outputs": [],
   "source": [
    "for i in range(1, PT_NUM+1):\n",
    "    ptnum = str(i).zfill(3)\n",
    "    save_path = os.path.join(MASK_TRAINING_DIR, f\"patient{ptnum}_gt.nii\")\n",
    "    if os.path.exists(save_path):\n",
    "        continue;\n",
    "    img = nib_from_int(i)\n",
    "    total_frames = training_data_DF.loc[i-1,'NbFrame']\n",
    "    all_frames = []\n",
    "    for j in range(int(total_frames)):\n",
    "        frame = img.get_fdata()[:,:,:,j]\n",
    "        frame = img4d_extraction(nib.Nifti1Image(frame, img.affine), CROP_SIZE)\n",
    "        frame = np.expand_dims(frame, axis=0)\n",
    "        img_mask = model.predict(frame)\n",
    "        img_mask = img_mask[0,:,:,:,:]\n",
    "        img_mask = standardise(img_mask)\n",
    "        all_frames.append(img_mask)\n",
    "    all_frames = np.transpose(np.asarray(all_frames), axes=(1, 2, 3, 0))\n",
    "    affine = np.diag([1.25, 1.25, 10.0, 1.0])\n",
    "    nifti_mask = nib.Nifti1Image(all_frames, affine=affine, dtype=np.int8)\n",
    "    nib.save(nifti_mask, save_path)"
   ]
  },
  {
   "cell_type": "code",
   "execution_count": null,
   "metadata": {},
   "outputs": [],
   "source": [
    "mask_4d = load_mask(1).get_fdata()\n",
    "plt.figure(figsize = (10,10))\n",
    "plt.imshow(mask_4d[:,:,5,5], cmap = 'gray')\n",
    "plt.title(\"Image Data\")\n",
    "plt.colorbar()\n",
    "plt.show()"
   ]
  },
  {
   "cell_type": "code",
   "execution_count": null,
   "metadata": {},
   "outputs": [],
   "source": [
    "plot_gen_mask(5,8)"
   ]
  },
  {
   "cell_type": "code",
   "execution_count": null,
   "metadata": {},
   "outputs": [],
   "source": [
    "for i in range(PT_NUM+1, PT_NUM+TEST_PT_NUM+1):\n",
    "    ptnum = str(i).zfill(3)\n",
    "    save_path = os.path.join(MASK_TESTING_DIR, f\"patient{ptnum}_gt.nii\")\n",
    "    if os.path.exists(save_path):\n",
    "        continue;\n",
    "    img = nib_from_int(i,testing=True)\n",
    "    total_frames = testing_data_DF.loc[i-PT_NUM-1,'NbFrame']\n",
    "    all_frames = []\n",
    "    for j in range(int(total_frames)):\n",
    "        frame = img.get_fdata()[:,:,:,j]\n",
    "        frame = img4d_extraction(nib.Nifti1Image(frame, img.affine), CROP_SIZE)\n",
    "        frame = np.expand_dims(frame, axis=0)\n",
    "        img_mask = model.predict(frame)\n",
    "        img_mask = img_mask[0,:,:,:,:]\n",
    "        img_mask = standardise(img_mask)\n",
    "        all_frames.append(img_mask)\n",
    "    all_frames = np.transpose(np.asarray(all_frames), axes=(1, 2, 3, 0))\n",
    "    affine = np.diag([1.25, 1.25, 10.0, 1.0])\n",
    "    nifti_mask = nib.Nifti1Image(all_frames, affine=affine, dtype=np.int8)\n",
    "    nib.save(nifti_mask, save_path)"
   ]
  }
 ],
 "metadata": {
  "kernelspec": {
   "display_name": ".venv",
   "language": "python",
   "name": "python3"
  },
  "language_info": {
   "codemirror_mode": {
    "name": "ipython",
    "version": 3
   },
   "file_extension": ".py",
   "mimetype": "text/x-python",
   "name": "python",
   "nbconvert_exporter": "python",
   "pygments_lexer": "ipython3",
   "version": "3.10.12"
  }
 },
 "nbformat": 4,
 "nbformat_minor": 2
}
