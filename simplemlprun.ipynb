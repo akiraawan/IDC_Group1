{
 "cells": [
  {
   "cell_type": "code",
   "execution_count": 1,
   "metadata": {},
   "outputs": [
    {
     "name": "stderr",
     "output_type": "stream",
     "text": [
      "2024-03-17 15:58:11.099964: E external/local_xla/xla/stream_executor/cuda/cuda_dnn.cc:9261] Unable to register cuDNN factory: Attempting to register factory for plugin cuDNN when one has already been registered\n",
      "2024-03-17 15:58:11.100030: E external/local_xla/xla/stream_executor/cuda/cuda_fft.cc:607] Unable to register cuFFT factory: Attempting to register factory for plugin cuFFT when one has already been registered\n",
      "2024-03-17 15:58:11.100943: E external/local_xla/xla/stream_executor/cuda/cuda_blas.cc:1515] Unable to register cuBLAS factory: Attempting to register factory for plugin cuBLAS when one has already been registered\n",
      "2024-03-17 15:58:11.111395: I tensorflow/core/platform/cpu_feature_guard.cc:182] This TensorFlow binary is optimized to use available CPU instructions in performance-critical operations.\n",
      "To enable the following instructions: AVX2 FMA, in other operations, rebuild TensorFlow with the appropriate compiler flags.\n",
      "2024-03-17 15:58:11.854994: W tensorflow/compiler/tf2tensorrt/utils/py_utils.cc:38] TF-TRT Warning: Could not find TensorRT\n"
     ]
    }
   ],
   "source": [
    "from densenetwork import model_builder\n",
    "from data import *\n",
    "from sklearn.model_selection import train_test_split"
   ]
  },
  {
   "cell_type": "code",
   "execution_count": null,
   "metadata": {},
   "outputs": [],
   "source": [
    "print(\"Num GPUs Available: \", len(tf.config.list_physical_devices('GPU')))\n",
    "from tensorflow.python.client import device_lib\n",
    "print(device_lib.list_local_devices())"
   ]
  },
  {
   "cell_type": "code",
   "execution_count": null,
   "metadata": {},
   "outputs": [],
   "source": [
    "checkpoint_dir = \"./ckpt\"\n",
    "if not os.path.exists(checkpoint_dir):\n",
    "    os.makedirs(checkpoint_dir)"
   ]
  },
  {
   "cell_type": "code",
   "execution_count": null,
   "metadata": {},
   "outputs": [],
   "source": [
    "strategy = tf.distribute.MirroredStrategy()\n",
    "print('Number of devices: {}'.format(strategy.num_replicas_in_sync))\n",
    "\n",
    "def make_or_restore_model(shape):\n",
    "    checkpoints = [checkpoint_dir + \"/\" + name for name in os.listdir(checkpoint_dir)]\n",
    "    if checkpoints:\n",
    "        latest_checkpoint = max(checkpoints, key=os.path.getctime)\n",
    "        print(\"Restoring from\", latest_checkpoint)\n",
    "        return tf.keras.models.load_model(latest_checkpoint)\n",
    "    print(\"Creating a new model\")\n",
    "    model = model_builder(shape)\n",
    "    model.compile(optimizer=tf.keras.optimizers.Adam(learning_rate=0.0005, weight_decay=0.03), loss=tf.keras.losses.MeanSquaredError(), metrics=['accuracy'])\n",
    "    return model\n",
    "\n",
    "def plot_stats(history, model_name):\n",
    "    acc = history.history['accuracy']\n",
    "    loss = history.history['loss']\n",
    "    val_loss = history.history['val_loss']\n",
    "    val_acc = history.history['val_accuracy']\n",
    "    epochs = range(len(acc))\n",
    "\n",
    "    plt.plot(epochs, acc, 'r', label='Training accuracy')\n",
    "    plt.plot(epochs, val_acc, 'b', label='Validation accuracy')\n",
    "    plt.title('Training and validation accuracy')\n",
    "    plt.legend(loc=0)\n",
    "    plt.savefig(model_name+'_acc.png')\n",
    "    plt.clf()\n",
    "\n",
    "    plt.plot(epochs, loss, 'r', label=\"Training loss\")\n",
    "    plt.plot(epochs, val_loss, 'b', label='Validation loss')\n",
    "    plt.title(\"Training and validation loss\")\n",
    "    plt.legend(loc=0)\n",
    "    plt.savefig(model_name+'_loss.png')\n",
    "    plt.clf()"
   ]
  },
  {
   "cell_type": "code",
   "execution_count": null,
   "metadata": {},
   "outputs": [],
   "source": [
    "def run_training(epochs=300, batch_size=30):\n",
    "    x, y = simple_MLP_train_data(Structure.LVM)\n",
    "    x = np.array(x)\n",
    "    y = np.array(y)\n",
    "    x_train, x_valid, y_train, y_valid = train_test_split(x, y, test_size=0.2, random_state=42)\n",
    "    with strategy.scope():\n",
    "        model = make_or_restore_model(x.shape[1:])\n",
    "    \n",
    "    callbacks = [\n",
    "        tf.keras.callbacks.ModelCheckpoint(\n",
    "            filepath=checkpoint_dir + \"/ckpt-{epoch}\",\n",
    "            save_freq=\"epoch\"\n",
    "        )\n",
    "    ]\n",
    "\n",
    "    history = model.fit(x_train, y_train, validation_data=(x_valid, y_valid), epochs=epochs, callbacks=callbacks, batch_size=batch_size, verbose=2)\n",
    "\n",
    "    model.save(\"simpleMLP.keras\")\n",
    "    plot_stats(history, \"simpleMLP\")"
   ]
  },
  {
   "cell_type": "code",
   "execution_count": 2,
   "metadata": {},
   "outputs": [
    {
     "data": {
      "image/png": "[encoded data removed]",
      "text/plain": [
       "<Figure size 640x480 with 1 Axes>"
      ]
     },
     "metadata": {},
     "output_type": "display_data"
    },
    {
     "name": "stdout",
     "output_type": "stream",
     "text": [
      "(224, 224, 10)\n"
     ]
    },
    {
     "ename": "error",
     "evalue": "OpenCV(4.9.0) /io/opencv/modules/imgproc/src/color.simd_helpers.hpp:92: error: (-2:Unspecified error) in function 'cv::impl::{anonymous}::CvtHelper<VScn, VDcn, VDepth, sizePolicy>::CvtHelper(cv::InputArray, cv::OutputArray, int) [with VScn = cv::impl::{anonymous}::Set<3, 4>; VDcn = cv::impl::{anonymous}::Set<1>; VDepth = cv::impl::{anonymous}::Set<0, 2, 5>; cv::impl::{anonymous}::SizePolicy sizePolicy = cv::impl::<unnamed>::NONE; cv::InputArray = const cv::_InputArray&; cv::OutputArray = const cv::_OutputArray&]'\n> Invalid number of channels in input image:\n>     'VScn::contains(scn)'\n> where\n>     'scn' is 10\n",
     "output_type": "error",
     "traceback": [
      "\u001b[0;31m---------------------------------------------------------------------------\u001b[0m",
      "\u001b[0;31merror\u001b[0m                                     Traceback (most recent call last)",
      "Cell \u001b[0;32mIn[2], line 5\u001b[0m\n\u001b[1;32m      3\u001b[0m dia_mask \u001b[38;5;241m=\u001b[39m img_mask_extraction(i, Frame\u001b[38;5;241m.\u001b[39mEND_DIASTOLIC, CROP_SIZE)\n\u001b[1;32m      4\u001b[0m sys_mask \u001b[38;5;241m=\u001b[39m img_mask_extraction(i, Frame\u001b[38;5;241m.\u001b[39mEND_SYSTOLIC, CROP_SIZE)\n\u001b[0;32m----> 5\u001b[0m dia_dict \u001b[38;5;241m=\u001b[39m \u001b[43mget_features\u001b[49m\u001b[43m(\u001b[49m\u001b[43mdia_mask\u001b[49m\u001b[43m,\u001b[49m\u001b[43m \u001b[49m\u001b[43mstructure\u001b[49m\u001b[43m)\u001b[49m\n\u001b[1;32m      6\u001b[0m sys_dict \u001b[38;5;241m=\u001b[39m get_features(sys_mask, structure)\n\u001b[1;32m      7\u001b[0m static_dict \u001b[38;5;241m=\u001b[39m {}\n",
      "File \u001b[0;32m~/IDC_Group1/extraction.py:144\u001b[0m, in \u001b[0;36mget_features\u001b[0;34m(img, structure)\u001b[0m\n\u001b[1;32m    142\u001b[0m \u001b[38;5;28;01mif\u001b[39;00m structure \u001b[38;5;241m==\u001b[39m Structure\u001b[38;5;241m.\u001b[39mLVM:\n\u001b[1;32m    143\u001b[0m     \u001b[38;5;28mprint\u001b[39m(img\u001b[38;5;241m.\u001b[39mshape)\n\u001b[0;32m--> 144\u001b[0m     gray \u001b[38;5;241m=\u001b[39m \u001b[43mcv2\u001b[49m\u001b[38;5;241;43m.\u001b[39;49m\u001b[43mcvtColor\u001b[49m\u001b[43m(\u001b[49m\u001b[43mimg\u001b[49m\u001b[43m,\u001b[49m\u001b[43m \u001b[49m\u001b[43mcv2\u001b[49m\u001b[38;5;241;43m.\u001b[39;49m\u001b[43mCOLOR_BGR2GRAY\u001b[49m\u001b[43m)\u001b[49m\n\u001b[1;32m    145\u001b[0m     contour_image \u001b[38;5;241m=\u001b[39m img\u001b[38;5;241m.\u001b[39mcopy() \u001b[38;5;28;01mif\u001b[39;00m \u001b[38;5;28mlen\u001b[39m(img\u001b[38;5;241m.\u001b[39mshape) \u001b[38;5;241m==\u001b[39m \u001b[38;5;241m3\u001b[39m \u001b[38;5;28;01melse\u001b[39;00m cv2\u001b[38;5;241m.\u001b[39mcvtColor(gray, cv2\u001b[38;5;241m.\u001b[39mCOLOR_GRAY2BGR)\n\u001b[1;32m    146\u001b[0m     cv2\u001b[38;5;241m.\u001b[39mdrawContours(img, result, \u001b[38;5;241m-\u001b[39m\u001b[38;5;241m1\u001b[39m, (\u001b[38;5;241m0\u001b[39m, \u001b[38;5;241m255\u001b[39m, \u001b[38;5;241m0\u001b[39m), \u001b[38;5;241m2\u001b[39m) \n",
      "\u001b[0;31merror\u001b[0m: OpenCV(4.9.0) /io/opencv/modules/imgproc/src/color.simd_helpers.hpp:92: error: (-2:Unspecified error) in function 'cv::impl::{anonymous}::CvtHelper<VScn, VDcn, VDepth, sizePolicy>::CvtHelper(cv::InputArray, cv::OutputArray, int) [with VScn = cv::impl::{anonymous}::Set<3, 4>; VDcn = cv::impl::{anonymous}::Set<1>; VDepth = cv::impl::{anonymous}::Set<0, 2, 5>; cv::impl::{anonymous}::SizePolicy sizePolicy = cv::impl::<unnamed>::NONE; cv::InputArray = const cv::_InputArray&; cv::OutputArray = const cv::_OutputArray&]'\n> Invalid number of channels in input image:\n>     'VScn::contains(scn)'\n> where\n>     'scn' is 10\n"
     ]
    }
   ],
   "source": [
    "structure = Structure.LVM\n",
    "i=12\n",
    "dia_mask = img_mask_extraction(i, Frame.END_DIASTOLIC, CROP_SIZE)\n",
    "sys_mask = img_mask_extraction(i, Frame.END_SYSTOLIC, CROP_SIZE)\n",
    "dia_dict = get_features(dia_mask, structure)\n",
    "sys_dict = get_features(sys_mask, structure)\n",
    "static_dict = {}\n",
    "print(dia_dict)\n",
    "print(sys_dict)\n",
    "for key, value in dia_dict.items():\n",
    "    match key:\n",
    "        case \"mean_circularity\":\n",
    "            static_dict[\"mean_circularity\"] = np.mean([value, sys_dict[key]])\n",
    "        case \"max_circumference\":\n",
    "            static_dict[\"max_circumference\"] = np.max([value, sys_dict[key]])\n",
    "        case \"mean_circumference\":\n",
    "            static_dict[\"mean_circumference\"] = np.mean([value, sys_dict[key]])\n",
    "    if structure == Structure.LVM:\n",
    "        match key:\n",
    "            case \"max_thickness\":\n",
    "                static_dict[\"max_thickness\"] = np.max([value, sys_dict[key]])\n",
    "            case \"min_thickness\":\n",
    "                static_dict[\"min_thickness\"] = np.min([value, sys_dict[key]])\n",
    "            case \"std_thickness\":\n",
    "                static_dict[\"std_thickness\"] = math.sqrt((value**2 + sys_dict[key]**2) / 2)\n",
    "            case \"mean_thickness\":\n",
    "                static_dict[\"mean_thickness\"] = np.mean([value, sys_dict[key]])\n",
    "df = training_data_DF[['Group', 'Height', 'Weight']].loc[i-1]\n",
    "static_dict['bmi'] = bmi(float(df['Height']), float(df['Weight']))\n",
    "static_dict['body_surface_area'] = mosteller_method(float(df['Height']), float(df['Weight']))\n",
    "features = np.array(list(static_dict.values()))\n",
    "print(features)\n",
    "print(features.shape)"
   ]
  },
  {
   "cell_type": "code",
   "execution_count": null,
   "metadata": {},
   "outputs": [],
   "source": [
    "run_training(10,1)"
   ]
  }
 ],
 "metadata": {
  "kernelspec": {
   "display_name": ".venv",
   "language": "python",
   "name": "python3"
  },
  "language_info": {
   "codemirror_mode": {
    "name": "ipython",
    "version": 3
   },
   "file_extension": ".py",
   "mimetype": "text/x-python",
   "name": "python",
   "nbconvert_exporter": "python",
   "pygments_lexer": "ipython3",
   "version": "3.10.12"
  }
 },
 "nbformat": 4,
 "nbformat_minor": 2
}
