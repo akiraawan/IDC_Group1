{
 "cells": [
  {
   "cell_type": "code",
   "execution_count": 36,
   "metadata": {},
   "outputs": [],
   "source": [
    "from utils import *\n",
    "from scipy.stats import chi2_contingency"
   ]
  },
  {
   "cell_type": "code",
   "execution_count": 17,
   "metadata": {},
   "outputs": [],
   "source": [
    "data = get_pd_data()"
   ]
  },
  {
   "cell_type": "code",
   "execution_count": 18,
   "metadata": {},
   "outputs": [],
   "source": [
    "data.set_index(\"PtNum\", inplace=True)"
   ]
  },
  {
   "cell_type": "code",
   "execution_count": 19,
   "metadata": {},
   "outputs": [
    {
     "data": {
      "text/html": [
       "<div>\n",
       "<style scoped>\n",
       "    .dataframe tbody tr th:only-of-type {\n",
       "        vertical-align: middle;\n",
       "    }\n",
       "\n",
       "    .dataframe tbody tr th {\n",
       "        vertical-align: top;\n",
       "    }\n",
       "\n",
       "    .dataframe thead th {\n",
       "        text-align: right;\n",
       "    }\n",
       "</style>\n",
       "<table border=\"1\" class=\"dataframe\">\n",
       "  <thead>\n",
       "    <tr style=\"text-align: right;\">\n",
       "      <th></th>\n",
       "      <th>ED</th>\n",
       "      <th>ES</th>\n",
       "      <th>Group</th>\n",
       "      <th>Height</th>\n",
       "      <th>NbFrame</th>\n",
       "      <th>Weight</th>\n",
       "      <th>XLen</th>\n",
       "      <th>YLen</th>\n",
       "      <th>ZLen</th>\n",
       "      <th>Time</th>\n",
       "    </tr>\n",
       "    <tr>\n",
       "      <th>PtNum</th>\n",
       "      <th></th>\n",
       "      <th></th>\n",
       "      <th></th>\n",
       "      <th></th>\n",
       "      <th></th>\n",
       "      <th></th>\n",
       "      <th></th>\n",
       "      <th></th>\n",
       "      <th></th>\n",
       "      <th></th>\n",
       "    </tr>\n",
       "  </thead>\n",
       "  <tbody>\n",
       "    <tr>\n",
       "      <th>1</th>\n",
       "      <td>1</td>\n",
       "      <td>12</td>\n",
       "      <td>DCM</td>\n",
       "      <td>184.0</td>\n",
       "      <td>30</td>\n",
       "      <td>95.0</td>\n",
       "      <td>216</td>\n",
       "      <td>256</td>\n",
       "      <td>10</td>\n",
       "      <td>30</td>\n",
       "    </tr>\n",
       "    <tr>\n",
       "      <th>2</th>\n",
       "      <td>1</td>\n",
       "      <td>12</td>\n",
       "      <td>DCM</td>\n",
       "      <td>160.0</td>\n",
       "      <td>30</td>\n",
       "      <td>70.0</td>\n",
       "      <td>232</td>\n",
       "      <td>256</td>\n",
       "      <td>10</td>\n",
       "      <td>30</td>\n",
       "    </tr>\n",
       "    <tr>\n",
       "      <th>3</th>\n",
       "      <td>1</td>\n",
       "      <td>15</td>\n",
       "      <td>DCM</td>\n",
       "      <td>165.0</td>\n",
       "      <td>30</td>\n",
       "      <td>77.0</td>\n",
       "      <td>256</td>\n",
       "      <td>256</td>\n",
       "      <td>10</td>\n",
       "      <td>30</td>\n",
       "    </tr>\n",
       "    <tr>\n",
       "      <th>4</th>\n",
       "      <td>1</td>\n",
       "      <td>15</td>\n",
       "      <td>DCM</td>\n",
       "      <td>159.0</td>\n",
       "      <td>28</td>\n",
       "      <td>46.0</td>\n",
       "      <td>232</td>\n",
       "      <td>256</td>\n",
       "      <td>10</td>\n",
       "      <td>28</td>\n",
       "    </tr>\n",
       "    <tr>\n",
       "      <th>5</th>\n",
       "      <td>1</td>\n",
       "      <td>13</td>\n",
       "      <td>DCM</td>\n",
       "      <td>165.0</td>\n",
       "      <td>30</td>\n",
       "      <td>77.0</td>\n",
       "      <td>256</td>\n",
       "      <td>216</td>\n",
       "      <td>10</td>\n",
       "      <td>30</td>\n",
       "    </tr>\n",
       "  </tbody>\n",
       "</table>\n",
       "</div>"
      ],
      "text/plain": [
       "      ED  ES Group Height NbFrame Weight  XLen  YLen  ZLen  Time\n",
       "PtNum                                                           \n",
       "1      1  12   DCM  184.0      30   95.0   216   256    10    30\n",
       "2      1  12   DCM  160.0      30   70.0   232   256    10    30\n",
       "3      1  15   DCM  165.0      30   77.0   256   256    10    30\n",
       "4      1  15   DCM  159.0      28   46.0   232   256    10    28\n",
       "5      1  13   DCM  165.0      30   77.0   256   216    10    30"
      ]
     },
     "execution_count": 19,
     "metadata": {},
     "output_type": "execute_result"
    }
   ],
   "source": [
    "data.head()"
   ]
  },
  {
   "cell_type": "code",
   "execution_count": 30,
   "metadata": {},
   "outputs": [],
   "source": [
    "data.Height = data.Height.astype(float); data.Weight = data.Weight.astype(float)"
   ]
  },
  {
   "cell_type": "code",
   "execution_count": 31,
   "metadata": {},
   "outputs": [],
   "source": [
    "\n",
    "data['BMI'] = data['Weight'] / ((data['Height'] / 100) ** 2)\n",
    "\n",
    "\n",
    "underweight = (0, 18.5)\n",
    "healthy = (18.5, 25)\n",
    "overweight = (25, 30)\n",
    "obese = (30, float('inf'))\n",
    "\n",
    "def classify_weight(bmi):\n",
    "    if bmi < underweight[1]:\n",
    "        return 'Underweight'\n",
    "    elif bmi < healthy[1]:\n",
    "        return 'Healthy weight'\n",
    "    elif bmi < overweight[1]:\n",
    "        return 'Overweight'\n",
    "    else:\n",
    "        return 'Obese'\n",
    "\n",
    "data['Weight_Category'] = data['BMI'].apply(classify_weight)\n",
    "\n"
   ]
  },
  {
   "cell_type": "code",
   "execution_count": 37,
   "metadata": {},
   "outputs": [
    {
     "name": "stdout",
     "output_type": "stream",
     "text": [
      "p_value = 0.005410489793349941 sig_level = 0.05 There is a significant difference in the distribution of weight categories.\n",
      "Weight category counts:\n",
      "Weight_Category\n",
      "Healthy weight    40\n",
      "Overweight        32\n",
      "Obese             19\n",
      "Underweight        9\n",
      "Name: count, dtype: int64\n"
     ]
    }
   ],
   "source": [
    "\n",
    "weight_category_counts = data['Weight_Category'].value_counts()\n",
    "\n",
    "skew_threshold = 0.05 #not sure if this is the best value here \n",
    "\n",
    "observed_freq = weight_category_counts\n",
    "\n",
    "expected_freq = pd.Series(index=observed_freq.index, data=len(data) / len(observed_freq))\n",
    "\n",
    "chi2, p_value, _, _ = chi2_contingency([observed_freq, expected_freq])\n",
    "\n",
    "siglev = 0.05\n",
    "\n",
    "if p_value < siglev:\n",
    "    print(f\"p_value = {p_value}\", f\"sig_level = {siglev}\", \"There is a significant difference in the distribution of weight categories.\")\n",
    "else:\n",
    "    print(f\"p_value = {p_value}\", f\"sig_level = {siglev}\", \"There is no significant difference in the distribution of weight categories.\")\n",
    "\n",
    "\n",
    "print(\"Weight category counts:\")\n",
    "print(weight_category_counts)\n"
   ]
  },
  {
   "cell_type": "code",
   "execution_count": null,
   "metadata": {},
   "outputs": [],
   "source": []
  }
 ],
 "metadata": {
  "kernelspec": {
   "display_name": "Python 3.11.5 ('base')",
   "language": "python",
   "name": "python3"
  },
  "language_info": {
   "codemirror_mode": {
    "name": "ipython",
    "version": 3
   },
   "file_extension": ".py",
   "mimetype": "text/x-python",
   "name": "python",
   "nbconvert_exporter": "python",
   "pygments_lexer": "ipython3",
   "version": "3.11.5"
  },
  "orig_nbformat": 4,
  "vscode": {
   "interpreter": {
    "hash": "bdecf95bf1678ba96d55e63d4a72649b75b56ba13e5c6b88f0e1c5055395c3c1"
   }
  }
 },
 "nbformat": 4,
 "nbformat_minor": 2
}
