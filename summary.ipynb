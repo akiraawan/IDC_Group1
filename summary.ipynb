{
 "cells": [
  {
   "cell_type": "code",
   "execution_count": null,
   "metadata": {},
   "outputs": [],
   "source": [
    "from utils import *"
   ]
  },
  {
   "cell_type": "code",
   "execution_count": null,
   "metadata": {},
   "outputs": [],
   "source": [
    "data"
   ]
  },
  {
   "cell_type": "code",
   "execution_count": null,
   "metadata": {},
   "outputs": [],
   "source": [
    "data = data[[\"PtNum\", \"Height\", \"Weight\"]]"
   ]
  },
  {
   "cell_type": "code",
   "execution_count": null,
   "metadata": {},
   "outputs": [],
   "source": [
    "data"
   ]
  },
  {
   "cell_type": "code",
   "execution_count": null,
   "metadata": {},
   "outputs": [],
   "source": [
    "data.set_index(\"PtNum\", inplace=True)"
   ]
  },
  {
   "cell_type": "code",
   "execution_count": null,
   "metadata": {},
   "outputs": [],
   "source": [
    "data.head()"
   ]
  },
  {
   "cell_type": "code",
   "execution_count": null,
   "metadata": {},
   "outputs": [],
   "source": [
    "data.describe()"
   ]
  },
  {
   "cell_type": "code",
   "execution_count": null,
   "metadata": {},
   "outputs": [],
   "source": [
    "\n",
    "df['BMI'] = df['Weight'] / ((df['Height'] / 100) ** 2)\n",
    "\n",
    "\n",
    "underweight = (0, 18.5)\n",
    "healthy = (18.5, 25)\n",
    "overweight = (25, 30)\n",
    "obese = (30, float('inf'))\n",
    "\n",
    "def classify_weight(bmi):\n",
    "    if bmi < underweight[1]:\n",
    "        return 'Underweight'\n",
    "    elif bmi < healthy[1]:\n",
    "        return 'Healthy weight'\n",
    "    elif bmi < overweight[1]:\n",
    "        return 'Overweight'\n",
    "    else:\n",
    "        return 'Obese'\n",
    "\n",
    "df['Weight_Category'] = df['BMI'].apply(classify_weight)\n",
    "\n"
   ]
  },
  {
   "cell_type": "code",
   "execution_count": null,
   "metadata": {},
   "outputs": [],
   "source": [
    "\n",
    "weight_category_counts = df['Weight_Category'].value_counts()\n",
    "\n",
    "skew_threshold = 0.05 #not sure if this is the best value here \n",
    "\n",
    "observed_freq = weight_category_counts\n",
    "\n",
    "expected_freq = pd.Series(index=observed_freq.index, data=len(df) / len(observed_freq))\n",
    "\n",
    "chi2, p_value, _, _ = chi2_contingency([observed_freq, expected_freq])\n",
    "\n",
    "siglev = 0.05\n",
    "\n",
    "if p_value < siglev:\n",
    "    print(\"p_value\" = p_value,\"sig_level\" = siglev, \"There is a significant difference in the distribution of weight categories.\")\n",
    "else:\n",
    "    print(\"p_value\" = p_value,\"sig_level\" = siglev, \"There is no significant difference in the distribution of weight categories.\")\n",
    "\n",
    "\n",
    "print(\"Weight category counts:\")\n",
    "print(weight_category_counts)\n"
   ]
  }
 ],
 "metadata": {
  "kernelspec": {
   "display_name": "Python 3.11.5 ('base')",
   "language": "python",
   "name": "python3"
  },
  "language_info": {
   "codemirror_mode": {
    "name": "ipython",
    "version": 3
   },
   "file_extension": ".py",
   "mimetype": "text/x-python",
   "name": "python",
   "nbconvert_exporter": "python",
   "pygments_lexer": "ipython3",
   "version": "3.12.1"
  },
  "orig_nbformat": 4,
  "vscode": {
   "interpreter": {
    "hash": "bdecf95bf1678ba96d55e63d4a72649b75b56ba13e5c6b88f0e1c5055395c3c1"
   }
  }
 },
 "nbformat": 4,
 "nbformat_minor": 2
}
