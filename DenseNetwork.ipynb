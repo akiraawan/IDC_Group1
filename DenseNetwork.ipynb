{
 "cells": [
  {
   "cell_type": "code",
   "execution_count": 2,
   "metadata": {},
   "outputs": [],
   "source": [
    "from utils import *\n",
    "from data import *\n",
    "from extraction import *\n",
    "import math"
   ]
  },
  {
   "cell_type": "code",
   "execution_count": 4,
   "metadata": {},
   "outputs": [
    {
     "name": "stdout",
     "output_type": "stream",
     "text": [
      "Group       DCM\n",
      "Height    184.0\n",
      "Weight     95.0\n",
      "Name: 0, dtype: object\n"
     ]
    },
    {
     "name": "stderr",
     "output_type": "stream",
     "text": [
      "/home/ethan/IDC_Group1/extraction.py:104: RuntimeWarning: invalid value encountered in divide\n",
      "  ejection_fraction = (stroke_volume / end_diastolic_volume) * 100\n",
      "/home/ethan/IDC_Group1/extraction.py:185: RuntimeWarning: invalid value encountered in scalar divide\n",
      "  feature_dict['ratio_min_lv_rv'] = lv_volumes.min() / rv_volumes.min()\n",
      "/home/ethan/IDC_Group1/extraction.py:186: RuntimeWarning: invalid value encountered in scalar divide\n",
      "  feature_dict['ratio_min_lm_lv'] = lv_mass.min() / lv_volumes.min()\n",
      "/home/ethan/IDC_Group1/extraction.py:187: RuntimeWarning: invalid value encountered in scalar divide\n",
      "  feature_dict['ratio_min_rv_lm'] = rv_volumes.min() / lv_mass.min()\n"
     ]
    },
    {
     "ename": "TypeError",
     "evalue": "unsupported operand type(s) for /: 'str' and 'int'",
     "output_type": "error",
     "traceback": [
      "\u001b[0;31m---------------------------------------------------------------------------\u001b[0m",
      "\u001b[0;31mTypeError\u001b[0m                                 Traceback (most recent call last)",
      "Cell \u001b[0;32mIn[4], line 34\u001b[0m\n\u001b[1;32m     32\u001b[0m df \u001b[38;5;241m=\u001b[39m training_data_DF[[\u001b[38;5;124m'\u001b[39m\u001b[38;5;124mGroup\u001b[39m\u001b[38;5;124m'\u001b[39m, \u001b[38;5;124m'\u001b[39m\u001b[38;5;124mHeight\u001b[39m\u001b[38;5;124m'\u001b[39m, \u001b[38;5;124m'\u001b[39m\u001b[38;5;124mWeight\u001b[39m\u001b[38;5;124m'\u001b[39m]]\u001b[38;5;241m.\u001b[39mloc[i\u001b[38;5;241m-\u001b[39m\u001b[38;5;241m1\u001b[39m]\n\u001b[1;32m     33\u001b[0m \u001b[38;5;28mprint\u001b[39m(df)\n\u001b[0;32m---> 34\u001b[0m feature_dict[\u001b[38;5;124m'\u001b[39m\u001b[38;5;124mbmi\u001b[39m\u001b[38;5;124m'\u001b[39m] \u001b[38;5;241m=\u001b[39m \u001b[43mbmi\u001b[49m\u001b[43m(\u001b[49m\u001b[43mdf\u001b[49m\u001b[43m[\u001b[49m\u001b[38;5;124;43m'\u001b[39;49m\u001b[38;5;124;43mHeight\u001b[39;49m\u001b[38;5;124;43m'\u001b[39;49m\u001b[43m]\u001b[49m\u001b[43m,\u001b[49m\u001b[43m \u001b[49m\u001b[43mdf\u001b[49m\u001b[43m[\u001b[49m\u001b[38;5;124;43m'\u001b[39;49m\u001b[38;5;124;43mWeight\u001b[39;49m\u001b[38;5;124;43m'\u001b[39;49m\u001b[43m]\u001b[49m\u001b[43m)\u001b[49m\n\u001b[1;32m     35\u001b[0m feature_dict[\u001b[38;5;124m'\u001b[39m\u001b[38;5;124mbody_surface_area\u001b[39m\u001b[38;5;124m'\u001b[39m] \u001b[38;5;241m=\u001b[39m mosteller_method(df[\u001b[38;5;124m'\u001b[39m\u001b[38;5;124mHeight\u001b[39m\u001b[38;5;124m'\u001b[39m], df[\u001b[38;5;124m'\u001b[39m\u001b[38;5;124mWeight\u001b[39m\u001b[38;5;124m'\u001b[39m])\n\u001b[1;32m     36\u001b[0m \u001b[38;5;28mprint\u001b[39m(feature_dict)\n",
      "File \u001b[0;32m~/IDC_Group1/extraction.py:76\u001b[0m, in \u001b[0;36mbmi\u001b[0;34m(height, weight)\u001b[0m\n\u001b[1;32m     75\u001b[0m \u001b[38;5;28;01mdef\u001b[39;00m \u001b[38;5;21mbmi\u001b[39m(height, weight): \u001b[38;5;66;03m#Height in cm, weight in kg\u001b[39;00m\n\u001b[0;32m---> 76\u001b[0m     height \u001b[38;5;241m=\u001b[39m \u001b[43mheight\u001b[49m\u001b[43m \u001b[49m\u001b[38;5;241;43m/\u001b[39;49m\u001b[43m \u001b[49m\u001b[38;5;241;43m100\u001b[39;49m\n\u001b[1;32m     77\u001b[0m     \u001b[38;5;28;01mreturn\u001b[39;00m weight\u001b[38;5;241m/\u001b[39mheight\u001b[38;5;241m*\u001b[39m\u001b[38;5;241m*\u001b[39m\u001b[38;5;241m2\u001b[39m\n",
      "\u001b[0;31mTypeError\u001b[0m: unsupported operand type(s) for /: 'str' and 'int'"
     ]
    }
   ],
   "source": [
    "structure = Structure.LVM\n",
    "x_test = []\n",
    "y_test = []\n",
    "label_to_number = {label: number for number, label in enumerate(CLASS_LABELS)}\n",
    "for i in range(1, PT_NUM+1):\n",
    "    mask_4d = load_mask(i)\n",
    "    dia_mask = img_mask_extraction(i, Frame.END_DIASTOLIC, CROP_SIZE)\n",
    "    sys_mask = img_mask_extraction(i, Frame.END_SYSTOLIC, CROP_SIZE)\n",
    "    dyn_dict = get_dynamic_features(mask_4d, structure)\n",
    "    dia_dict = get_features(dia_mask, structure)\n",
    "    sys_dict = get_features(sys_mask, structure)\n",
    "    static_dict = {}\n",
    "    for key, value in dia_dict.items():\n",
    "        match key:\n",
    "            case \"mean_circularity\":\n",
    "                static_dict[\"mean_circularity\"] = np.mean([value, sys_dict[key]])\n",
    "            case \"max_circumference\":\n",
    "                static_dict[\"max_circumference\"] = np.max([value, sys_dict[key]])\n",
    "            case \"mean_circumference\":\n",
    "                static_dict[\"mean_circumference\"] = np.mean([value, sys_dict[key]])\n",
    "        if structure == Structure.LVM:\n",
    "            match key:\n",
    "                case \"max_thickness\":\n",
    "                    static_dict[\"max_thickness\"] = np.max([value, sys_dict[key]])\n",
    "                case \"min_thickness\":\n",
    "                    static_dict[\"min_thickness\"] = np.min([value, sys_dict[key]])\n",
    "                case \"std_thickness\":\n",
    "                    static_dict[\"std_thickness\"] = math.sqrt((value**2 + sys_dict[key]**2) / 2)\n",
    "                case \"mean_thickness\":\n",
    "                    static_dict[\"mean_thickness\"] = np.mean([value, sys_dict[key]])\n",
    "    feature_dict = {**dyn_dict, **static_dict}\n",
    "    df = training_data_DF[['Group', 'Height', 'Weight']].loc[i-1]\n",
    "    print(df)\n",
    "    feature_dict['bmi'] = bmi(float(df['Height']), float(df['Weight']))\n",
    "    feature_dict['body_surface_area'] = mosteller_method(float(df['Height']), float(df['Weight']))\n",
    "    print(feature_dict)\n",
    "    features = np.array(list(feature_dict.values()))\n",
    "    x_test.append(features)\n",
    "    y_test.append(label_to_number[str(df['Group'])])"
   ]
  }
 ],
 "metadata": {
  "kernelspec": {
   "display_name": ".venv",
   "language": "python",
   "name": "python3"
  },
  "language_info": {
   "codemirror_mode": {
    "name": "ipython",
    "version": 3
   },
   "file_extension": ".py",
   "mimetype": "text/x-python",
   "name": "python",
   "nbconvert_exporter": "python",
   "pygments_lexer": "ipython3",
   "version": "3.10.12"
  }
 },
 "nbformat": 4,
 "nbformat_minor": 2
}
